{
 "cells": [
  {
   "cell_type": "markdown",
   "id": "binding-manor",
   "metadata": {},
   "source": [
    "# HIPÓTSIS 1\n",
    "La mayoría de los ataques de tiburones han sido reportados en Oceanía por hombres, donde Australia es la meca del surf internacional."
   ]
  },
  {
   "cell_type": "markdown",
   "id": "aquatic-festival",
   "metadata": {},
   "source": [
    "## Limpieza"
   ]
  },
  {
   "cell_type": "code",
   "execution_count": null,
   "id": "answering-darkness",
   "metadata": {},
   "outputs": [],
   "source": [
    "import pandas as pd\n",
    "import src.limpieza_texto as lt\n",
    "\n",
    "pd.options.mode.chained_assignment = None  # default='warn"
   ]
  },
  {
   "cell_type": "markdown",
   "id": "bottom-trouble",
   "metadata": {},
   "source": [
    "Utilizamos las librerías pandas y \"limpieza de texto\", una libreria propia para agrupar todas las funciones principales. Un listado de sus cabeceras."
   ]
  },
  {
   "cell_type": "code",
   "execution_count": null,
   "id": "extreme-principal",
   "metadata": {},
   "outputs": [],
   "source": [
    "  \n",
    "def continentes(csv):\n",
    "def trunca_comas(data,col):\n",
    "def similar(a,b): \n",
    "def dime_continente(p,dicc):       \n",
    "def busca_contienente(data,col,col_n,dicc):\n",
    "def esta_en_dicc(e,dic):\n",
    "def pise_usuario(dicc,p):\n",
    "def pide_continente(data,dicc,p,c):\n",
    "       \n",
    "\n",
    " "
   ]
  },
  {
   "cell_type": "markdown",
   "id": "racial-explorer",
   "metadata": {},
   "source": [
    "Nuestro código principal lo dividimos en la parte de limpieza en un archivo .py que lee el CSV de los attaques y devuelve el proceso en otro CSV para poseriormente verlovisualizarlo.\n",
    "\n",
    "Leemos y limpiamos las filas con un nan de 3."
   ]
  },
  {
   "cell_type": "code",
   "execution_count": null,
   "id": "manufactured-diameter",
   "metadata": {},
   "outputs": [],
   "source": [
    "df = pd.read_csv(\"./data/attacks.csv\",encoding = \"ISO-8859-1\")\n",
    "columna='Country'\n",
    "(filas,col)=df.shape\n",
    "df=lt.limpia_nan(df,3)"
   ]
  },
  {
   "cell_type": "markdown",
   "id": "better-andrew",
   "metadata": {},
   "source": [
    "A continuación leemos los datos de los paises por continentes en un csv."
   ]
  },
  {
   "cell_type": "code",
   "execution_count": null,
   "id": "governing-accused",
   "metadata": {},
   "outputs": [],
   "source": [
    "csv='./data/continent.csv'\n",
    "dicc=lt.continentes(csv)"
   ]
  },
  {
   "cell_type": "code",
   "execution_count": null,
   "id": "respective-crystal",
   "metadata": {},
   "outputs": [],
   "source": [
    "df['Country'].fillna('', inplace=True)\n",
    "df=lt.trunca_comas(df,'Country')\n",
    "df=lt.busca_contienente(df,'Country','Continent',dicc)\n",
    "df=lt.pide_continente(df,dicc,'Country','Continent')"
   ]
  },
  {
   "cell_type": "code",
   "execution_count": null,
   "id": "dutch-disclosure",
   "metadata": {},
   "outputs": [],
   "source": [
    "Limpiamos de nan y quitarmos comas de la columna de paises.\n",
    "A partir del listado de continentes nos construimos un diccionario de tipo:\n",
    "\n",
    "NOTA:\n",
    "    {CONT1:{ PAISES...PAISES}, CONT2:{ PAISES...PAISES}...}\n",
    "    \n",
    "Donde la clave son los 5 contienen tes en mayúsculas y los valores el conjunto de paises que lo forman.\n",
    "Poseriormente la última función es capaz de desde la columna COuntry encontrar a qué continente pertenece. \n",
    "\n",
    "Los que están en la lista los encuentra sin problema y los que no hace una aproximación por cadena."
   ]
  },
  {
   "cell_type": "code",
   "execution_count": null,
   "id": "sublime-colon",
   "metadata": {},
   "outputs": [],
   "source": [
    "df.rename(columns = {'Sex ':'Gender'}, inplace=True)\n",
    "df=lt.clean_gender(df,'Gender')\n",
    "df.to_csv(path_or_buf='./outputs/cont_out.csv',index=True)"
   ]
  },
  {
   "cell_type": "markdown",
   "id": "banner-button",
   "metadata": {},
   "source": [
    "Renombramos con más estilo la columna de género y guardamps la nueva BD"
   ]
  },
  {
   "cell_type": "markdown",
   "id": "intimate-basketball",
   "metadata": {},
   "source": [
    "## Visualización"
   ]
  },
  {
   "cell_type": "markdown",
   "id": "emerging-bundle",
   "metadata": {},
   "source": [
    "Partimos del CSV entregado por el proceso de limpieza"
   ]
  },
  {
   "cell_type": "code",
   "execution_count": null,
   "id": "opposed-midwest",
   "metadata": {},
   "outputs": [],
   "source": [
    "import matplotlib.pyplot as plt\n",
    "import pandas as pd\n",
    "import seaborn as sns\n",
    "\n",
    "df = pd.read_csv(\"./outputs/cont_out.csv\",encoding = \"ISO-8859-1\")\n",
    "plt.figure(figsize=(10,5))\n",
    "g = sns.countplot(\n",
    "    data=df,\n",
    "    x='Continent',\n",
    "    hue='Gender',\n",
    "    palette='Set2',\n",
    "    )\n",
    "g.set_xticklabels(g.get_xticklabels(),\n",
    "                  rotation=10,\n",
    "                 fontweight='light',\n",
    "                fontsize='large')\n",
    "plt.savefig('./fig/cont.png')"
   ]
  },
  {
   "cell_type": "markdown",
   "id": "coastal-render",
   "metadata": {},
   "source": [
    "El código nos guarada un diagrama con esta solucíon:\n",
    "\n",
    "<img width=700 src=\"https://github.com/emiliocarrascomoreno/sharkstattack/blob/master/fig/cont.png?raw=true\">"
   ]
  },
  {
   "cell_type": "markdown",
   "id": "breeding-times",
   "metadata": {},
   "source": [
    "## Conclusiones\n",
    "\n",
    "Nuestra hipótesis no estaba mal encaminada por que Oceanía es el segundo país con más ataques informados. Efectivamente, la inmensamayoría son a hombres.\n"
   ]
  },
  {
   "cell_type": "code",
   "execution_count": null,
   "id": "effective-think",
   "metadata": {},
   "outputs": [],
   "source": []
  }
 ],
 "metadata": {
  "kernelspec": {
   "display_name": "Python 3",
   "language": "python",
   "name": "python3"
  },
  "language_info": {
   "codemirror_mode": {
    "name": "ipython",
    "version": 3
   },
   "file_extension": ".py",
   "mimetype": "text/x-python",
   "name": "python",
   "nbconvert_exporter": "python",
   "pygments_lexer": "ipython3",
   "version": "3.8.5"
  }
 },
 "nbformat": 4,
 "nbformat_minor": 5
}
