{
 "cells": [
  {
   "cell_type": "markdown",
   "id": "opening-injection",
   "metadata": {},
   "source": [
    "# HIPÓTESIS"
   ]
  },
  {
   "cell_type": "markdown",
   "id": "labeled-singer",
   "metadata": {},
   "source": [
    "## ¿Existe relación entre número total de vuelos anueales internacionales y cantidad de ataques de tiburones anuales?\n",
    "https://data.worldbank.org/indicator/IS.AIR.PSGR?end=2019&start=1970"
   ]
  },
  {
   "cell_type": "markdown",
   "id": "paperback-socket",
   "metadata": {},
   "source": [
    "## ¿Existe relación entre el número de ataques de tiburón y la temperatura del mar en Australia?\n",
    "https://www.data.qld.gov.au/dataset/soe2017-sea-surface-temperature/resource/2017-indicator-4-2-0-1-1"
   ]
  },
  {
   "cell_type": "markdown",
   "id": "oriented-reviewer",
   "metadata": {},
   "source": [
    "paises\n",
    "https://www.data.qld.gov.au/dataset/soe2017-sea-surface-temperature/resource/2017-indicator-4-2-0-1-1"
   ]
  },
  {
   "cell_type": "markdown",
   "id": "constitutional-primary",
   "metadata": {},
   "source": [
    "¿exite relación entre el número de vuelos por continente y el número de ataques de ese continente?"
   ]
  }
 ],
 "metadata": {
  "kernelspec": {
   "display_name": "Python 3",
   "language": "python",
   "name": "python3"
  },
  "language_info": {
   "codemirror_mode": {
    "name": "ipython",
    "version": 3
   },
   "file_extension": ".py",
   "mimetype": "text/x-python",
   "name": "python",
   "nbconvert_exporter": "python",
   "pygments_lexer": "ipython3",
   "version": "3.8.5"
  }
 },
 "nbformat": 4,
 "nbformat_minor": 5
}
