{
 "cells": [
  {
   "cell_type": "markdown",
   "id": "binding-manor",
   "metadata": {},
   "source": [
    "# HIPÓTSIS 2\n",
    "La mayoría de los ataques de tiburones han sido reportados a varones que estaban haciendo surf."
   ]
  },
  {
   "cell_type": "markdown",
   "id": "aquatic-festival",
   "metadata": {},
   "source": [
    "## Limpieza"
   ]
  },
  {
   "cell_type": "code",
   "execution_count": 1,
   "id": "answering-darkness",
   "metadata": {},
   "outputs": [],
   "source": [
    "import pandas as pd\n",
    "import src.limpieza_texto as lt\n",
    "\n",
    "pd.options.mode.chained_assignment = None  # default='warn"
   ]
  },
  {
   "cell_type": "markdown",
   "id": "bottom-trouble",
   "metadata": {},
   "source": [
    "Utilizamos las librerías pandas y \"limpieza de texto\", una libreria propia para agrupar todas las funciones principales. Un listado de sus cabeceras."
   ]
  },
  {
   "cell_type": "markdown",
   "id": "abstract-credits",
   "metadata": {},
   "source": [
    "def year_cleaner(srk,column_years)\n",
    "\n",
    "def trunca_comas(data,col):\n",
    "\n",
    "def similar(a,b): \n",
    "\n",
    "def dime_continente(p,dicc):       \n",
    "\n",
    "def busca_contienente(data,col,col_n,dicc):\n",
    "\n",
    "def esta_en_dicc(e,dic):\n",
    "\n",
    "def pise_usuario(dicc,p):\n",
    "\n",
    "def pide_continente(data,dicc,p,c):\n",
    "       \n",
    "\n",
    " "
   ]
  },
  {
   "cell_type": "markdown",
   "id": "racial-explorer",
   "metadata": {},
   "source": [
    "Nuestro código principal lo dividimos en la parte de limpieza en un archivo .py que lee el CSV de los attaques y devuelve el proceso en otro CSV para poseriormente verlovisualizarlo.\n",
    "\n",
    "Leemos y comenzamos a trabajar sobre la columna Years.\n",
    "\n",
    "De etre todos los pises nos quedamos solo con Australia.\n",
    "\n",
    "Leemos el csv histórico de la temperatura en el país.\n",
    "\n",
    "Con la funciión histograma nos quedamos sólo con la información del número de ataques por año.\n",
    "\n",
    "Recortamos ambos drames sólo con los años que nos interesan.\n",
    "\n",
    "Unimos ambas tablas en un único data frame"
   ]
  },
  {
   "cell_type": "code",
   "execution_count": 4,
   "id": "manufactured-diameter",
   "metadata": {},
   "outputs": [
    {
     "data": {
      "text/html": [
       "<div>\n",
       "<style scoped>\n",
       "    .dataframe tbody tr th:only-of-type {\n",
       "        vertical-align: middle;\n",
       "    }\n",
       "\n",
       "    .dataframe tbody tr th {\n",
       "        vertical-align: top;\n",
       "    }\n",
       "\n",
       "    .dataframe thead th {\n",
       "        text-align: right;\n",
       "    }\n",
       "</style>\n",
       "<table border=\"1\" class=\"dataframe\">\n",
       "  <thead>\n",
       "    <tr style=\"text-align: right;\">\n",
       "      <th></th>\n",
       "      <th>Tanomaly</th>\n",
       "      <th>10yav</th>\n",
       "      <th>Termal Variation</th>\n",
       "      <th>10yvariation</th>\n",
       "      <th>Attacks</th>\n",
       "    </tr>\n",
       "    <tr>\n",
       "      <th>Years</th>\n",
       "      <th></th>\n",
       "      <th></th>\n",
       "      <th></th>\n",
       "      <th></th>\n",
       "      <th></th>\n",
       "    </tr>\n",
       "  </thead>\n",
       "  <tbody>\n",
       "    <tr>\n",
       "      <th>1950</th>\n",
       "      <td>-0.17</td>\n",
       "      <td>-0.135</td>\n",
       "      <td>0.17</td>\n",
       "      <td>0.135</td>\n",
       "      <td>13</td>\n",
       "    </tr>\n",
       "    <tr>\n",
       "      <th>1951</th>\n",
       "      <td>-0.33</td>\n",
       "      <td>-0.133</td>\n",
       "      <td>0.33</td>\n",
       "      <td>0.133</td>\n",
       "      <td>9</td>\n",
       "    </tr>\n",
       "    <tr>\n",
       "      <th>1952</th>\n",
       "      <td>-0.20</td>\n",
       "      <td>-0.148</td>\n",
       "      <td>0.20</td>\n",
       "      <td>0.148</td>\n",
       "      <td>5</td>\n",
       "    </tr>\n",
       "    <tr>\n",
       "      <th>1953</th>\n",
       "      <td>-0.27</td>\n",
       "      <td>-0.205</td>\n",
       "      <td>0.27</td>\n",
       "      <td>0.205</td>\n",
       "      <td>12</td>\n",
       "    </tr>\n",
       "    <tr>\n",
       "      <th>1954</th>\n",
       "      <td>-0.32</td>\n",
       "      <td>-0.254</td>\n",
       "      <td>0.32</td>\n",
       "      <td>0.254</td>\n",
       "      <td>6</td>\n",
       "    </tr>\n",
       "    <tr>\n",
       "      <th>...</th>\n",
       "      <td>...</td>\n",
       "      <td>...</td>\n",
       "      <td>...</td>\n",
       "      <td>...</td>\n",
       "      <td>...</td>\n",
       "    </tr>\n",
       "    <tr>\n",
       "      <th>2013</th>\n",
       "      <td>0.44</td>\n",
       "      <td>0.422</td>\n",
       "      <td>0.44</td>\n",
       "      <td>0.422</td>\n",
       "      <td>20</td>\n",
       "    </tr>\n",
       "    <tr>\n",
       "      <th>2014</th>\n",
       "      <td>0.40</td>\n",
       "      <td>0.425</td>\n",
       "      <td>0.40</td>\n",
       "      <td>0.425</td>\n",
       "      <td>29</td>\n",
       "    </tr>\n",
       "    <tr>\n",
       "      <th>2015</th>\n",
       "      <td>0.26</td>\n",
       "      <td>0.402</td>\n",
       "      <td>0.26</td>\n",
       "      <td>0.402</td>\n",
       "      <td>31</td>\n",
       "    </tr>\n",
       "    <tr>\n",
       "      <th>2016</th>\n",
       "      <td>0.85</td>\n",
       "      <td>0.460</td>\n",
       "      <td>0.85</td>\n",
       "      <td>0.460</td>\n",
       "      <td>32</td>\n",
       "    </tr>\n",
       "    <tr>\n",
       "      <th>2017</th>\n",
       "      <td>0.75</td>\n",
       "      <td>0.490</td>\n",
       "      <td>0.75</td>\n",
       "      <td>0.490</td>\n",
       "      <td>23</td>\n",
       "    </tr>\n",
       "  </tbody>\n",
       "</table>\n",
       "<p>68 rows × 5 columns</p>\n",
       "</div>"
      ],
      "text/plain": [
       "       Tanomaly  10yav  Termal Variation  10yvariation  Attacks\n",
       "Years                                                          \n",
       "1950      -0.17 -0.135              0.17         0.135       13\n",
       "1951      -0.33 -0.133              0.33         0.133        9\n",
       "1952      -0.20 -0.148              0.20         0.148        5\n",
       "1953      -0.27 -0.205              0.27         0.205       12\n",
       "1954      -0.32 -0.254              0.32         0.254        6\n",
       "...         ...    ...               ...           ...      ...\n",
       "2013       0.44  0.422              0.44         0.422       20\n",
       "2014       0.40  0.425              0.40         0.425       29\n",
       "2015       0.26  0.402              0.26         0.402       31\n",
       "2016       0.85  0.460              0.85         0.460       32\n",
       "2017       0.75  0.490              0.75         0.490       23\n",
       "\n",
       "[68 rows x 5 columns]"
      ]
     },
     "execution_count": 4,
     "metadata": {},
     "output_type": "execute_result"
    }
   ],
   "source": [
    "srk = pd.read_csv(\"./data/attacks.csv\",encoding = \"ISO-8859-1\")\n",
    "column_years='Years'\n",
    "srk = lt.year_cleaner(srk,column_years)\n",
    "pais = 'AUSTRALIA'\n",
    "srk_country = lt.clean_one_country(srk, pais)\n",
    "temp = lt.read_temp(\"./data/temp.csv\", column_years)\n",
    "magnitud='Attacks'\n",
    "srk_hist = lt.histograma(srk_country,column_years,magnitud)\n",
    "\n",
    "primero = 1950\n",
    "ultimo = 2017\n",
    "temp = lt.filter_years(temp, primero, ultimo)\n",
    "srk_hist  = lt.filter_years(srk_hist, primero, ultimo)\n",
    "\n",
    "df=lt.unir(temp,srk_hist)\n",
    "df.to_csv(path_or_buf='./outputs/anyos_out.csv',index=True)\n",
    "df"
   ]
  },
  {
   "cell_type": "markdown",
   "id": "better-andrew",
   "metadata": {},
   "source": [
    "A continuación leemos los datos de los paises por continentes en un csv."
   ]
  },
  {
   "cell_type": "code",
   "execution_count": null,
   "id": "governing-accused",
   "metadata": {},
   "outputs": [],
   "source": [
    "csv='./data/continent.csv'\n",
    "dicc=lt.continentes(csv)"
   ]
  },
  {
   "cell_type": "code",
   "execution_count": null,
   "id": "respective-crystal",
   "metadata": {},
   "outputs": [],
   "source": [
    "df['Country'].fillna('', inplace=True)\n",
    "df=lt.trunca_comas(df,'Country')\n",
    "df=lt.busca_contienente(df,'Country','Continent',dicc)\n",
    "df=lt.pide_continente(df,dicc,'Country','Continent')"
   ]
  },
  {
   "cell_type": "code",
   "execution_count": null,
   "id": "dutch-disclosure",
   "metadata": {},
   "outputs": [],
   "source": [
    "Limpiamos de nan y quitarmos comas de la columna de paises.\n",
    "A partir del listado de continentes nos construimos un diccionario de tipo:\n",
    "\n",
    "NOTA:\n",
    "    {CONT1:{ PAISES...PAISES}, CONT2:{ PAISES...PAISES}...}\n",
    "    \n",
    "Donde la clave son los 5 contienen tes en mayúsculas y los valores el conjunto de paises que lo forman.\n",
    "Poseriormente la última función es capaz de desde la columna COuntry encontrar a qué continente pertenece. \n",
    "\n",
    "Los que están en la lista los encuentra sin problema y los que no hace una aproximación por cadena."
   ]
  },
  {
   "cell_type": "code",
   "execution_count": null,
   "id": "sublime-colon",
   "metadata": {},
   "outputs": [],
   "source": [
    "df.rename(columns = {'Sex ':'Gender'}, inplace=True)\n",
    "df=lt.clean_gender(df,'Gender')\n",
    "df.to_csv(path_or_buf='./outputs/cont_out.csv',index=True)"
   ]
  },
  {
   "cell_type": "markdown",
   "id": "banner-button",
   "metadata": {},
   "source": [
    "Renombramos con más estilo la columna de género y guardamps la nueva BD"
   ]
  },
  {
   "cell_type": "markdown",
   "id": "intimate-basketball",
   "metadata": {},
   "source": [
    "## Visualización"
   ]
  },
  {
   "cell_type": "markdown",
   "id": "emerging-bundle",
   "metadata": {},
   "source": [
    "Partimos del CSV entregado por el proceso de limpieza"
   ]
  },
  {
   "cell_type": "code",
   "execution_count": 6,
   "id": "opposed-midwest",
   "metadata": {},
   "outputs": [
    {
     "data": {
      "image/png": "[encoded data removed]",
      "text/plain": [
       "<Figure size 504x504 with 3 Axes>"
      ]
     },
     "metadata": {
      "needs_background": "light"
     },
     "output_type": "display_data"
    },
    {
     "ename": "NameError",
     "evalue": "name 'corr' is not defined",
     "output_type": "error",
     "traceback": [
      "\u001b[0;31m---------------------------------------------------------------------------\u001b[0m",
      "\u001b[0;31mNameError\u001b[0m                                 Traceback (most recent call last)",
      "\u001b[0;32m<ipython-input-6-102f93becda5>\u001b[0m in \u001b[0;36m<module>\u001b[0;34m\u001b[0m\n\u001b[1;32m     36\u001b[0m \u001b[0;34m\u001b[0m\u001b[0m\n\u001b[1;32m     37\u001b[0m \u001b[0mfig3\u001b[0m\u001b[0;34m.\u001b[0m\u001b[0msavefig\u001b[0m\u001b[0;34m(\u001b[0m\u001b[0;34m'./fig/attacks-temp.png'\u001b[0m\u001b[0;34m)\u001b[0m\u001b[0;34m\u001b[0m\u001b[0;34m\u001b[0m\u001b[0m\n\u001b[0;32m---> 38\u001b[0;31m \u001b[0mcorr\u001b[0m\u001b[0;34m\u001b[0m\u001b[0;34m\u001b[0m\u001b[0m\n\u001b[0m",
      "\u001b[0;31mNameError\u001b[0m: name 'corr' is not defined"
     ]
    }
   ],
   "source": [
    "import matplotlib.pyplot as plt\n",
    "import seaborn as sns\n",
    "import pandas as pd\n",
    "import matplotlib\n",
    "import matplotlib.gridspec as gridspec\n",
    "import numpy as np\n",
    "\n",
    "df = pd.read_csv(\"./outputs/anyos_out.csv\",encoding = \"ISO-8859-1\")\n",
    "\n",
    "\n",
    "fig3 = plt.figure(constrained_layout=True)\n",
    "fig3.set_size_inches(7, 7)\n",
    "\n",
    "gs = fig3.add_gridspec(3,3)\n",
    "\n",
    "f3_ax1 = fig3.add_subplot(gs[0,:])\n",
    "f3_ax1.set_title('#Ataques')\n",
    "\n",
    "f3_ax2 = fig3.add_subplot(gs[1,:])\n",
    "f3_ax2.set_title('Δ Temperatura')\n",
    "\n",
    "f3_ax3 = fig3.add_subplot(gs[-2:-1])\n",
    "f3_ax3.set_title('Diagrama de dispersíon')\n",
    "\n",
    "correlacion=df[['10yvariation','Attacks']].corr()\n",
    "corre=correlacion.Attacks['10yvariation']\n",
    "\n",
    "f3_ax3.annotate(f\"Correlación = {corre}\", xy=(2, 1), xytext=(3, 4),\n",
    "            arrowprops=dict(facecolor='black', shrink=0.05))\n",
    "\n",
    "z = np.polyfit(df.Attacks, df['10yvariation'], 1)\n",
    "p = np.poly1d(z)\n",
    "plt.plot(df.Attacks,p(df.Attacks),\"r. \", alpha=0.5)\n",
    "\n",
    "plt.show()\n",
    "\n",
    "fig3.savefig('./fig/attacks-temp.png')"
   ]
  },
  {
   "cell_type": "markdown",
   "id": "furnished-genetics",
   "metadata": {},
   "source": [
    "Con el df obtenido podemos observar la evolución de ambas variables y su diagrama de dispersión:\n",
    "\n",
    "<img src=\"https://github.com/emiliocarrascomoreno/sharkstattack/blob/master/fig/attacks-temp.png?raw=true\">\n",
    "\n",
    "Podemos Observar la similitud de la curva entre 1950 y 2017, además de el diagrama de dispersión y su recta de aproximación.\n",
    "\n",
    "Además la correlación que obtenemos es bastante alta: 0,78"
   ]
  },
  {
   "cell_type": "markdown",
   "id": "breeding-times",
   "metadata": {},
   "source": [
    "## Conclusiones\n",
    "\n",
    "Nuestra hipótesis no queda descartada y puede que sea correcta\n"
   ]
  },
  {
   "cell_type": "code",
   "execution_count": null,
   "id": "effective-think",
   "metadata": {},
   "outputs": [],
   "source": []
  }
 ],
 "metadata": {
  "kernelspec": {
   "display_name": "Python 3",
   "language": "python",
   "name": "python3"
  },
  "language_info": {
   "codemirror_mode": {
    "name": "ipython",
    "version": 3
   },
   "file_extension": ".py",
   "mimetype": "text/x-python",
   "name": "python",
   "nbconvert_exporter": "python",
   "pygments_lexer": "ipython3",
   "version": "3.8.5"
  }
 },
 "nbformat": 4,
 "nbformat_minor": 5
}
